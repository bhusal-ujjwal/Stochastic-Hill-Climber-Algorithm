{
  "nbformat": 4,
  "nbformat_minor": 0,
  "metadata": {
    "colab": {
      "provenance": []
    },
    "kernelspec": {
      "name": "python3",
      "display_name": "Python 3"
    },
    "language_info": {
      "name": "python"
    }
  },
  "cells": [
    {
      "cell_type": "code",
      "source": [
        "# Stochastic Hill Climber Algorithm\n",
        "\n",
        "# Implement Schastic Hill Climber Algorithm in either Mathematica or Python.\n",
        "# The algorithm description can be found in the related lectures.\n",
        "# Your algorithm must have these inputs:\n",
        "# Test function\n",
        "# Input domain of the test function\n",
        "# Dimension size\n",
        "# Number of iterations\n",
        "# Neighborhood size - number of generated solutions\n",
        "# Neighborhood radius - percentage of the hyperspace\n",
        "# The algorithm must provide at the output:\n",
        "# Best found value of objective function f(x)\n",
        "# The value of x of the best found f(x)\n",
        "# Convergence graph of the development of the f(x)\n",
        "# An example, together with the useful tips, can be found in the support document.\n",
        "# Again, you have approximately two weeks to accomplish this task. If you submit your first attempt after a deadline, you will receive -2 points. The maximum points achievable for this task is 10 points.\n",
        "# You have two attempts to accomplish this task (the second attempt can be submitted after the deadline without any further penalization).\n",
        "# Simplified algorithm description:\n",
        "# The goal of this algorithm is to find the global minimum of the selected test function (test all test functions you have programmed for Task 1).\n",
        "# The algorithm starts with one initial point (solution), which has randomly generated parameters (arguments). Around the starting point generates other points. Each solution has some solution quality (fitness) that depends on the test function. From all the newly generated points, the algorithm selects the best point (solution). The chosen point then becomes the initial point for the next iteration of the algorithm.\n",
        "# Be aware that each test function probably has different parameter bounds, and you have to ensure that all the newly generated points lie in the feasible space of solutions.\n",
        "# Once you implement the algorithm, you will need to apply it to the 5 test functions from the first Task. The algorithm has several features that you can adjust:\n",
        "# NP - The number of newly generated points in each iteration.\n",
        "# Radius - Radius in which new points are generated around the initial point.\n",
        "# maxIT - Maximal number of algorithm iterations.\n",
        "# The dimension size of each test function will be set as D=10.\n",
        "# You already know the minimal global value of each test function, so try to set the parameters for each test in a way that your algorithm will get to the minimal value as close as possible.\n",
        "# Compare the results with the Blind search algorithm (from Task 2) -- make a conclusion about which algorithm is more effective (the verbal assessment is enough)\n",
        "# For the comparison -- if you set both algorithms with the same setting (number of dimensions, iterations, test function), you can visually compare which algorithm achieved better results."
      ],
      "metadata": {
        "id": "y1JL776XeZt2"
      },
      "execution_count": null,
      "outputs": []
    },
    {
      "cell_type": "code",
      "execution_count": null,
      "metadata": {
        "id": "8ab4d8EbXKnQ"
      },
      "outputs": [],
      "source": [
        "#Stochastic Hill Climber Algorithm Implementation\n",
        "import random\n",
        "import numpy as np\n",
        "import matplotlib.pyplot as plt\n",
        "\n",
        "def stochastic_hill_climber(obj_func, bounds, dimensions, num_iter, neighborhood_size, neighborhood_radius):\n",
        "    # initialize best_f to infinity so that the first value will always be accepted\n",
        "    best_f = np.inf\n",
        "    best_x = None\n",
        "    convergence = []\n",
        "\n",
        "    # generate a random initial point within the given bounds for each input dimension\n",
        "    x = [random.uniform(bounds[j][0], bounds[j][1]) for j in range(dimensions)]\n",
        "\n",
        "    # loop through the number of iterations\n",
        "    for i in range(num_iter):\n",
        "        neighborhood = []\n",
        "        # generate a neighborhood of new points around the current point\n",
        "        for j in range(neighborhood_size):\n",
        "            # generate a new point within the neighborhood radius of the current point\n",
        "            new_x = [random.uniform(x[k] - neighborhood_radius*(bounds[k][1] - bounds[k][0]),\n",
        "                                     x[k] + neighborhood_radius*(bounds[k][1] - bounds[k][0])) for k in range(dimensions)]\n",
        "            # ensure the new point is within the feasible space of solutions\n",
        "            for k in range(dimensions):\n",
        "                if new_x[k] < bounds[k][0]:\n",
        "                    new_x[k] = bounds[k][0]\n",
        "                elif new_x[k] > bounds[k][1]:\n",
        "                    new_x[k] = bounds[k][1]\n",
        "            # evaluate the objective function at the new point and add it to the neighborhood\n",
        "            neighborhood.append((obj_func(new_x), new_x))\n",
        "\n",
        "        # select the best point from the neighborhood\n",
        "        neighborhood.sort(key=lambda x: x[0])\n",
        "        best_neighbor_f, best_neighbor_x = neighborhood[0]\n",
        "\n",
        "        # if the best point in the neighborhood is better than the current point, update the current point\n",
        "        if best_neighbor_f < obj_func(x):\n",
        "            x = best_neighbor_x\n",
        "\n",
        "        # if the current value is better than the previous best, update the best values\n",
        "        if obj_func(x) < best_f:\n",
        "            best_f = obj_func(x)\n",
        "            best_x = x\n",
        "\n",
        "        # append the current best value to the convergence list\n",
        "        convergence.append(best_f)\n",
        "\n",
        "    return best_f, best_x, convergence"
      ]
    },
    {
      "cell_type": "code",
      "source": [
        "#Sphere Function\n",
        "def sphere(x):\n",
        "    return sum([xi**2 for xi in x])\n",
        "\n",
        "bounds = [(-5.12, 5.12)] * 10\n",
        "best_f, best_x, convergence = stochastic_hill_climber(sphere, bounds, 10, 1000, 10, 0.1)\n",
        "print(\"Sphere Function:\")\n",
        "print(\"Best found value of objective function: \", best_f)\n",
        "print(\"The value of x of the best found f(x): \", best_x)\n",
        "plt.plot(convergence)\n",
        "plt.show()"
      ],
      "metadata": {
        "colab": {
          "base_uri": "https://localhost:8080/",
          "height": 337
        },
        "id": "ZRORGcNVZYsK",
        "outputId": "ad25c558-e0ad-4e02-bc28-62e079f05e53"
      },
      "execution_count": null,
      "outputs": [
        {
          "output_type": "stream",
          "name": "stdout",
          "text": [
            "Sphere Function:\n",
            "Best found value of objective function:  0.5714247624000146\n",
            "The value of x of the best found f(x):  [-0.10885751826588619, -0.3326420558611594, 0.40141921513157097, 0.03948626681259193, -0.1768529014657333, -0.24570468934291312, 0.12324974074761652, 0.33685779905649016, -0.14049573739679388, 0.2148884443558432]\n"
          ]
        },
        {
          "output_type": "display_data",
          "data": {
            "text/plain": [
              "<Figure size 432x288 with 1 Axes>"
            ],
            "image/png": "[encoded data removed]"
          },
          "metadata": {
            "needs_background": "light"
          }
        }
      ]
    },
    {
      "cell_type": "code",
      "source": [
        "#Rosenbrock Function\n",
        "def rosenbrock(x):\n",
        "    return sum([100*(x[i+1] - x[i]**2)**2 + (1 - x[i])**2 for i in range(len(x)-1)])\n",
        "\n",
        "bounds = [(-2.048, 2.048)] * 10\n",
        "best_f, best_x, convergence = stochastic_hill_climber(rosenbrock, bounds, 10, 1000, 20, 0.1)\n",
        "print(\"Rosenbrock Function:\")\n",
        "print(\"Best found value of objective function: \", best_f)\n",
        "print(\"The value of x of the best found f(x): \", best_x)\n",
        "plt.plot(convergence)\n",
        "plt.show()"
      ],
      "metadata": {
        "colab": {
          "base_uri": "https://localhost:8080/",
          "height": 337
        },
        "id": "u-QyJvNgZcw5",
        "outputId": "a721ae11-9f34-444b-c43d-8c2a0cf3e248"
      },
      "execution_count": null,
      "outputs": [
        {
          "output_type": "stream",
          "name": "stdout",
          "text": [
            "Rosenbrock Function:\n",
            "Best found value of objective function:  17.47513823127202\n",
            "The value of x of the best found f(x):  [-0.8549870973187454, 0.8863002182896137, 0.7171701730936327, 0.5653345728993273, 0.40943325030463473, 0.26034707065927587, 0.001439167423627874, -0.03524035002742931, -0.04377054816188611, -0.20120007210642427]\n"
          ]
        },
        {
          "output_type": "display_data",
          "data": {
            "text/plain": [
              "<Figure size 432x288 with 1 Axes>"
            ],
            "image/png": "[encoded data removed]"
          },
          "metadata": {
            "needs_background": "light"
          }
        }
      ]
    },
    {
      "cell_type": "code",
      "source": [
        "#Rastrigin Function\n",
        "def rastrigin(x):\n",
        "    return 10*len(x) + sum([xi**2 - 10*np.cos(2*np.pi*xi) for xi in x])\n",
        "\n",
        "bounds = [(-5.12, 5.12)] * 10\n",
        "best_f, best_x, convergence = stochastic_hill_climber(rastrigin, bounds, 10, 1000, 20, 0.1)\n",
        "print(\"Rastrigin Function:\")\n",
        "print(\"Best found value of objective function: \", best_f)\n",
        "print(\"The value of x of the best found f(x): \", best_x)\n",
        "plt.plot(convergence)\n",
        "plt.show()"
      ],
      "metadata": {
        "colab": {
          "base_uri": "https://localhost:8080/",
          "height": 337
        },
        "id": "50q_tUfLcOQR",
        "outputId": "a006e52f-78ad-4e53-aaf0-bf76702cdb76"
      },
      "execution_count": null,
      "outputs": [
        {
          "output_type": "stream",
          "name": "stdout",
          "text": [
            "Rastrigin Function:\n",
            "Best found value of objective function:  52.89146059729377\n",
            "The value of x of the best found f(x):  [2.0387387965949886, -0.7771754292809607, 4.17160063725821, -0.9354685559548983, -0.09159215775870133, -0.11492569177257472, 1.1004910486068276, -0.04521914964290841, 0.8735323713289154, -1.1151517227482575]\n"
          ]
        },
        {
          "output_type": "display_data",
          "data": {
            "text/plain": [
              "<Figure size 432x288 with 1 Axes>"
            ],
            "image/png": "[encoded data removed]"
          },
          "metadata": {
            "needs_background": "light"
          }
        }
      ]
    },
    {
      "cell_type": "code",
      "source": [
        "#Griewank Function\n",
        "def griewank(x):\n",
        "    return 1 + sum([xi**2/4000 for xi in x]) - np.prod([np.cos(xi/np.sqrt(i+1)) for i, xi in enumerate(x)])\n",
        "\n",
        "bounds = [(-600, 600)] * 10\n",
        "best_f, best_x, convergence = stochastic_hill_climber(griewank, bounds, 10, 1000, 20, 0.1)\n",
        "print(\"Griewank Function:\")\n",
        "print(\"Best found value of objective function: \", best_f)\n",
        "print(\"The value of x of the best found f(x): \", best_x)\n",
        "plt.plot(convergence)\n",
        "plt.show()"
      ],
      "metadata": {
        "colab": {
          "base_uri": "https://localhost:8080/",
          "height": 337
        },
        "id": "Pd_nDe5fcUt1",
        "outputId": "603c19ef-61a7-4489-9a5d-6bbb3e127aa2"
      },
      "execution_count": null,
      "outputs": [
        {
          "output_type": "stream",
          "name": "stdout",
          "text": [
            "Griewank Function:\n",
            "Best found value of objective function:  2.2025355988955457\n",
            "The value of x of the best found f(x):  [13.42462574252474, -13.137656116944711, -17.087189510465237, 52.30066492704759, 12.743754260271444, -0.023906874792857025, 31.74024417612199, 7.902251352987918, -12.039557912600742, 16.206671105924173]\n"
          ]
        },
        {
          "output_type": "display_data",
          "data": {
            "text/plain": [
              "<Figure size 432x288 with 1 Axes>"
            ],
            "image/png": "[encoded data removed]"
          },
          "metadata": {
            "needs_background": "light"
          }
        }
      ]
    },
    {
      "cell_type": "code",
      "source": [
        "#Ackley Function\n",
        "def ackley(x):\n",
        "    return -20*np.exp(-0.2*np.sqrt(sum([xi**2 for xi in x])/len(x))) - np.exp(sum([np.cos(2*np.pi*xi) for xi in x])/len(x)) + 20 + np.e\n",
        "\n",
        "bounds = [(-32.768, 32.768)] * 10\n",
        "best_f, best_x, convergence = stochastic_hill_climber(ackley, bounds, 10, 1000, 20, 0.1)\n",
        "print(\"Ackley Function:\")\n",
        "print(\"Best found value of objective function: \", best_f)\n",
        "print(\"The value of x of the best found f(x): \", best_x)\n",
        "plt.plot(convergence)\n",
        "plt.show()"
      ],
      "metadata": {
        "colab": {
          "base_uri": "https://localhost:8080/",
          "height": 337
        },
        "id": "4yQKbrj7cZ05",
        "outputId": "79ffd723-9f30-49e2-e944-900447c9f19b"
      },
      "execution_count": null,
      "outputs": [
        {
          "output_type": "stream",
          "name": "stdout",
          "text": [
            "Ackley Function:\n",
            "Best found value of objective function:  6.165109022600234\n",
            "The value of x of the best found f(x):  [0.4978303702583453, -0.32124952645339544, 2.8126210112368577, -1.1824584157539908, 1.4035460858035176, 0.6673377495801356, -0.307001698489092, -0.6205455771478245, -1.1089903025217431, -1.0345653806841497]\n"
          ]
        },
        {
          "output_type": "display_data",
          "data": {
            "text/plain": [
              "<Figure size 432x288 with 1 Axes>"
            ],
            "image/png": "[encoded data removed]"
          },
          "metadata": {
            "needs_background": "light"
          }
        }
      ]
    },
    {
      "cell_type": "code",
      "source": [
        "#Styblinski Tang Function\n",
        "def styblinski_tang(x):\n",
        "    return sum([(xi**4 - 16*xi**2 + 5*xi)/2 for xi in x])\n",
        "\n",
        "bounds = [(-5, 5)] * 10\n",
        "best_f, best_x, convergence = stochastic_hill_climber(styblinski_tang, bounds, 10, 1000, 20, 0.1)\n",
        "print(\"Styblinski-Tang Function:\")\n",
        "print(\"Best found value of objective function: \", best_f)\n",
        "# print(\"The value of x of the best found f\n",
        "print(\"The value of x of the best found f(x): \", best_x)\n",
        "plt.plot(convergence)\n",
        "plt.show()"
      ],
      "metadata": {
        "colab": {
          "base_uri": "https://localhost:8080/",
          "height": 337
        },
        "id": "tYgkWKFcditV",
        "outputId": "41cd2cc6-5ff0-4579-ad86-f79785799acb"
      },
      "execution_count": null,
      "outputs": [
        {
          "output_type": "stream",
          "name": "stdout",
          "text": [
            "Styblinski-Tang Function:\n",
            "Best found value of objective function:  -339.76926145396965\n",
            "The value of x of the best found f(x):  [-2.888283075467542, -2.909123572183815, -3.4076482365571055, 2.6068574914594205, -2.7846658339938557, 3.0700592417237917, 2.615406988016104, -3.142135272692026, -3.0863143184683137, -2.805283787498605]\n"
          ]
        },
        {
          "output_type": "display_data",
          "data": {
            "text/plain": [
              "<Figure size 432x288 with 1 Axes>"
            ],
            "image/png": "[encoded data removed]"
          },
          "metadata": {
            "needs_background": "light"
          }
        }
      ]
    },
    {
      "cell_type": "code",
      "source": [
        "# Conclusion:\n",
        "# Based on the nature of the two algorithms, the hill climber algorithm is likely to be more effective than the random search algorithm in finding\n",
        "# the global optimum of a given function, especially for functions with a smooth and continuous landscape. This is because the hill climber algorithm\n",
        "# makes use of information from the previous iterations to guide its search towards the direction of the optimal solution, while the random search\n",
        "# algorithm randomly generates solutions without any knowledge of the past solutions.\n",
        "\n",
        "# Visually comparing the results of the two algorithms for a given test function with the same settings, such as the number of dimensions and\n",
        "# iterations, can provide further evidence of the effectiveness of the hill climber algorithm. If we plot the values of the function obtained by\n",
        "# each algorithm for different iterations, we may see that the hill climber algorithm converges to a better solution faster than the random search\n",
        "# algorithm. This is because the hill climber algorithm always moves towards the direction of the higher values of the function, while the random\n",
        "# search algorithm may randomly generate solutions that move away from the optimal solution, causing the algorithm to take longer to converge.\n",
        "\n",
        "# Therefore, in general, the hill climber algorithm is more effective than the random search algorithm in finding the global optimum of a given\n",
        "# function, especially for functions with a smooth and continuous landscape. However, it is important to note that the effectiveness of these\n",
        "# algorithms may depend on the specific characteristics of the function being optimized and the settings of the algorithm."
      ],
      "metadata": {
        "id": "VY16IXVHdvOW"
      },
      "execution_count": null,
      "outputs": []
    }
  ]
}